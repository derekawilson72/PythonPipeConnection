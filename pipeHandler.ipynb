{
 "metadata": {
  "name": "",
  "signature": "sha256:946a04738fe2202c53cabd2c15409d3eca11d28c76940ed9c5fe08f7066b3c27"
 },
 "nbformat": 3,
 "nbformat_minor": 0,
 "worksheets": [
  {
   "cells": [
    {
     "cell_type": "code",
     "collapsed": false,
     "input": [
      "import pipeHandler"
     ],
     "language": "python",
     "metadata": {},
     "outputs": [],
     "prompt_number": 1
    },
    {
     "cell_type": "heading",
     "level": 2,
     "metadata": {},
     "source": [
      "Create the pipe connections"
     ]
    },
    {
     "cell_type": "code",
     "collapsed": false,
     "input": [
      "parent_conn,child_conn=pipeHandler.Pipe()  ##create pipe parent and child\n",
      "pH1=pipeHandler.pipeConnector()            ##create pipeConnector\n",
      "pH1.connectPipe(parent_conn)               ##used parent conn as the pipe connection for pipeConnector\n",
      "pH1.recvPipeData()                         ##start receiving thread"
     ],
     "language": "python",
     "metadata": {},
     "outputs": [],
     "prompt_number": 3
    },
    {
     "cell_type": "markdown",
     "metadata": {},
     "source": [
      "Start sending and receiving data"
     ]
    },
    {
     "cell_type": "code",
     "collapsed": false,
     "input": [
      "child_conn.send(['hello parent',3,4,5])    ##send sample data string\n",
      "pH1.data ##see the data on the other end \n",
      "##['hello parent',3,4,5]\n",
      "proc1=pipeHandler.Process(target=pipeHandler.doSampleStuff,args=(child_conn,))\n",
      "proc1.start()\n",
      "pH1.data ##see the data on the other end as the function does it's thing\n",
      "#['to infinity and beyond', 11365, 22730]\n",
      "#['to infinity and beyond', 11495, 22990]\n",
      "#....\n",
      "#['to infinity and beyond', 11569, 23138]"
     ],
     "language": "python",
     "metadata": {},
     "outputs": [
      {
       "metadata": {},
       "output_type": "pyout",
       "prompt_number": 4,
       "text": [
        "''"
       ]
      }
     ],
     "prompt_number": 4
    }
   ],
   "metadata": {}
  }
 ]
}